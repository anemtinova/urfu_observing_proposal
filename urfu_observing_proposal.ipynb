{
  "nbformat": 4,
  "nbformat_minor": 0,
  "metadata": {
    "colab": {
      "provenance": [],
      "authorship_tag": "ABX9TyPOOHSuqv28nuLQhkQYqoVh",
      "include_colab_link": true
    },
    "kernelspec": {
      "name": "python3",
      "display_name": "Python 3"
    },
    "language_info": {
      "name": "python"
    }
  },
  "cells": [
    {
      "cell_type": "markdown",
      "metadata": {
        "id": "view-in-github",
        "colab_type": "text"
      },
      "source": [
        "<a href=\"https://colab.research.google.com/github/anemtinova/urfu_observing_proposal/blob/main/urfu_observing_proposal.ipynb\" target=\"_parent\"><img src=\"https://colab.research.google.com/assets/colab-badge.svg\" alt=\"Open In Colab\"/></a>"
      ]
    },
    {
      "cell_type": "markdown",
      "source": [
        "# Предположим, что мы хотим наблюдать транзит [экзопланеты TOI-4074.01](https://exoplanetarchive.ipac.caltech.edu/overview/TIC%20628103717#planet_TOI-4074-01_collapsible) на телескопе **RoboPhot** в Коуровской астрономической обсерватории."
      ],
      "metadata": {
        "id": "9EX2r0vAssr8"
      }
    },
    {
      "cell_type": "markdown",
      "source": [
        "Первое, в чем стоит убедиться: видимая звездная величина в фильтрах r и i должна быть меньше предельной звездной величины телескопа. Звездную величину легко проверить по вышеуказанной ссылке, а также убедиться, что она совпадает со звездной величиной в каталоге SDSS (DR12):"
      ],
      "metadata": {
        "id": "lCyX0AtK_C-k"
      }
    },
    {
      "cell_type": "markdown",
      "source": [
        "> Устанавливаем **astroquery** для отправки запросов в базы данных:\n",
        "\n"
      ],
      "metadata": {
        "id": "JRecdJl8AlAF"
      }
    },
    {
      "cell_type": "code",
      "source": [
        "pip install astroquery"
      ],
      "metadata": {
        "id": "lmO6r_T-_t4X",
        "colab": {
          "base_uri": "https://localhost:8080/"
        },
        "outputId": "662e28f8-6826-4a92-83be-a77d85da84ab"
      },
      "execution_count": null,
      "outputs": [
        {
          "output_type": "stream",
          "name": "stdout",
          "text": [
            "Collecting astroquery\n",
            "  Downloading astroquery-0.4.7-py3-none-any.whl (5.3 MB)\n",
            "\u001b[2K     \u001b[90m━━━━━━━━━━━━━━━━━━━━━━━━━━━━━━━━━━━━━━━━\u001b[0m \u001b[32m5.3/5.3 MB\u001b[0m \u001b[31m15.2 MB/s\u001b[0m eta \u001b[36m0:00:00\u001b[0m\n",
            "\u001b[?25hRequirement already satisfied: numpy>=1.18 in /usr/local/lib/python3.10/dist-packages (from astroquery) (1.25.2)\n",
            "Requirement already satisfied: astropy>=4.2.1 in /usr/local/lib/python3.10/dist-packages (from astroquery) (5.3.4)\n",
            "Requirement already satisfied: requests>=2.19 in /usr/local/lib/python3.10/dist-packages (from astroquery) (2.31.0)\n",
            "Requirement already satisfied: beautifulsoup4>=4.8 in /usr/local/lib/python3.10/dist-packages (from astroquery) (4.12.3)\n",
            "Requirement already satisfied: html5lib>=0.999 in /usr/local/lib/python3.10/dist-packages (from astroquery) (1.1)\n",
            "Requirement already satisfied: keyring>=15.0 in /usr/lib/python3/dist-packages (from astroquery) (23.5.0)\n",
            "Collecting pyvo>=1.1 (from astroquery)\n",
            "  Downloading pyvo-1.5.1-py3-none-any.whl (910 kB)\n",
            "\u001b[2K     \u001b[90m━━━━━━━━━━━━━━━━━━━━━━━━━━━━━━━━━━━━━━━━\u001b[0m \u001b[32m910.2/910.2 kB\u001b[0m \u001b[31m24.8 MB/s\u001b[0m eta \u001b[36m0:00:00\u001b[0m\n",
            "\u001b[?25hRequirement already satisfied: pyerfa>=2.0 in /usr/local/lib/python3.10/dist-packages (from astropy>=4.2.1->astroquery) (2.0.1.1)\n",
            "Requirement already satisfied: PyYAML>=3.13 in /usr/local/lib/python3.10/dist-packages (from astropy>=4.2.1->astroquery) (6.0.1)\n",
            "Requirement already satisfied: packaging>=19.0 in /usr/local/lib/python3.10/dist-packages (from astropy>=4.2.1->astroquery) (23.2)\n",
            "Requirement already satisfied: soupsieve>1.2 in /usr/local/lib/python3.10/dist-packages (from beautifulsoup4>=4.8->astroquery) (2.5)\n",
            "Requirement already satisfied: six>=1.9 in /usr/local/lib/python3.10/dist-packages (from html5lib>=0.999->astroquery) (1.16.0)\n",
            "Requirement already satisfied: webencodings in /usr/local/lib/python3.10/dist-packages (from html5lib>=0.999->astroquery) (0.5.1)\n",
            "Requirement already satisfied: charset-normalizer<4,>=2 in /usr/local/lib/python3.10/dist-packages (from requests>=2.19->astroquery) (3.3.2)\n",
            "Requirement already satisfied: idna<4,>=2.5 in /usr/local/lib/python3.10/dist-packages (from requests>=2.19->astroquery) (3.6)\n",
            "Requirement already satisfied: urllib3<3,>=1.21.1 in /usr/local/lib/python3.10/dist-packages (from requests>=2.19->astroquery) (2.0.7)\n",
            "Requirement already satisfied: certifi>=2017.4.17 in /usr/local/lib/python3.10/dist-packages (from requests>=2.19->astroquery) (2024.2.2)\n",
            "Installing collected packages: pyvo, astroquery\n",
            "Successfully installed astroquery-0.4.7 pyvo-1.5.1\n"
          ]
        }
      ]
    },
    {
      "cell_type": "markdown",
      "source": [
        "> Вводим ICRS координаты звезды:\n",
        "\n"
      ],
      "metadata": {
        "id": "bRDoEKDp_mLv"
      }
    },
    {
      "cell_type": "code",
      "source": [
        "star_ra = \"01h57m41.61s\"\n",
        "star_dec = \"+63d54m16.52s\""
      ],
      "metadata": {
        "id": "OOVSmtKRa5BO"
      },
      "execution_count": null,
      "outputs": []
    },
    {
      "cell_type": "markdown",
      "source": [
        "> Выполняем поиск звезд внутри окружности с радиусом 2 угловые секунды:\n",
        "\n"
      ],
      "metadata": {
        "id": "fGs7yR9HQ0kl"
      }
    },
    {
      "cell_type": "code",
      "source": [
        "from astropy.coordinates import SkyCoord, Angle"
      ],
      "metadata": {
        "id": "MJoiAZuXxzFC"
      },
      "execution_count": null,
      "outputs": []
    },
    {
      "cell_type": "code",
      "source": [
        "from astroquery.vizier import Vizier\n",
        "\n",
        "star_coord = [Angle(star_ra), Angle(star_dec)]\n",
        "star_ra_dec = SkyCoord(star_coord[0], star_coord[1], frame = 'icrs')\n",
        "result = Vizier.query_region(star_ra_dec, radius = Angle(\"2s\"), catalog = \"SDSS12\")\n",
        "print(result[0]['rmag'])\n",
        "print(result[0]['imag'])"
      ],
      "metadata": {
        "id": "--pnHbGL_7RU",
        "colab": {
          "base_uri": "https://localhost:8080/"
        },
        "outputId": "15be55fa-549e-4bbf-e6ad-96861335d67a"
      },
      "execution_count": null,
      "outputs": [
        {
          "output_type": "stream",
          "name": "stdout",
          "text": [
            " rmag \n",
            " mag  \n",
            "------\n",
            "14.564\n",
            " imag \n",
            " mag  \n",
            "------\n",
            "14.071\n"
          ]
        }
      ]
    },
    {
      "cell_type": "markdown",
      "source": [
        "14 звездная величина будет отлично наблюдаться на RoboPhot. Осталось определиться с датой и временем наблюдений."
      ],
      "metadata": {
        "id": "NrrCEdM9BrYa"
      }
    },
    {
      "cell_type": "markdown",
      "source": [
        "Для этого на том же сайте находим **Transit Prediction Service** и переходим на [страницу NASA EXOPLANET ARCHIVE](https://exoplanetarchive.ipac.caltech.edu/cgi-bin/TransitView/nph-visibletbls?dataset=transits&sname=TOI-4074.01&getParams=1), где нам нужно указать **Observer Location (Custom Lat/Lon в десятичных градусах)**."
      ],
      "metadata": {
        "id": "te4L99II84_R"
      }
    },
    {
      "cell_type": "markdown",
      "source": [
        "> Координаты Коуровской астрономической обсерватории: Latitude = 57$^\\circ$ 02' 11\" N, Longitude = 59$^\\circ$ 32' 30\" E. Воспользуемся объектом **Angle** для перевода градусов, минут и секунд в градусы.\n",
        "\n"
      ],
      "metadata": {
        "id": "B-igAa3zRg5v"
      }
    },
    {
      "cell_type": "code",
      "source": [
        "lat = Angle(\"57d02m11s\")\n",
        "print(lat.degree)\n",
        "lon = Angle(\"59d32m30s\")\n",
        "print(lon.degree)"
      ],
      "metadata": {
        "id": "mT9Cbiji1QGU",
        "colab": {
          "base_uri": "https://localhost:8080/"
        },
        "outputId": "b08bca55-b59f-4732-e82a-c2194c7141d8"
      },
      "execution_count": null,
      "outputs": [
        {
          "output_type": "stream",
          "name": "stdout",
          "text": [
            "57.03638888888889\n",
            "59.541666666666664\n"
          ]
        }
      ]
    },
    {
      "cell_type": "markdown",
      "source": [
        "Выбираем **Next Event**, если хотим получить дату и время ближайшего транзита. Отправляем запрос и получаем таблицу со следующими полезными данными: продолжительность транзита — 3.2 часа, дата и время середины транзита — 12 марта 2024 года в 21:39 UT. Учитывая общую продолжительность наблюдений в 4 часа, можно определить, что начать наблюдение транзита можно в 19:39 UT."
      ],
      "metadata": {
        "id": "lHwvlgiU3-I0"
      }
    },
    {
      "cell_type": "markdown",
      "source": [
        "Оценим общие условия наблюдений (например, в момент середины транзита): фазу Луны, угловое расстояние от звезды до Луны на небесной сфере и высоту звезды над горизонтом."
      ],
      "metadata": {
        "id": "7dx5ud-s7ZKh"
      }
    },
    {
      "cell_type": "markdown",
      "source": [
        "> Устанавливаем **ephem** (сокращение от эфемерида), использующийся для стандартных астрономических вычислений:\n",
        "\n"
      ],
      "metadata": {
        "id": "GfCKPDg5Ushi"
      }
    },
    {
      "cell_type": "code",
      "source": [
        "pip install ephem"
      ],
      "metadata": {
        "id": "g4QvwGj1MXZm",
        "colab": {
          "base_uri": "https://localhost:8080/"
        },
        "outputId": "ba43f903-eb7b-44d6-c267-5e5933a303c7"
      },
      "execution_count": null,
      "outputs": [
        {
          "output_type": "stream",
          "name": "stdout",
          "text": [
            "Collecting ephem\n",
            "  Downloading ephem-4.1.5-cp310-cp310-manylinux_2_17_x86_64.manylinux2014_x86_64.whl (1.8 MB)\n",
            "\u001b[2K     \u001b[90m━━━━━━━━━━━━━━━━━━━━━━━━━━━━━━━━━━━━━━━━\u001b[0m \u001b[32m1.8/1.8 MB\u001b[0m \u001b[31m7.1 MB/s\u001b[0m eta \u001b[36m0:00:00\u001b[0m\n",
            "\u001b[?25hInstalling collected packages: ephem\n",
            "Successfully installed ephem-4.1.5\n"
          ]
        }
      ]
    },
    {
      "cell_type": "code",
      "execution_count": null,
      "metadata": {
        "id": "dNW1YO1vMTgm"
      },
      "outputs": [],
      "source": [
        "import ephem\n",
        "\n",
        "moon = ephem.Moon()\n",
        "observer = ephem.Observer()\n",
        "observer.date = \"2024/3/12 21:39:00\""
      ]
    },
    {
      "cell_type": "markdown",
      "source": [
        "> Находим фазу Луны **moon_phase** — процент освещенной части Луны (не зависит от положения наблюдателя). Полнолуние мешает наблюдениям из-за яркого света Луны, который может затмить слабые объекты на небе и ухудшить качество изображений. Наблюдения лучше проводить во время новолуния.\n",
        "\n"
      ],
      "metadata": {
        "id": "GGkickn0H6Ls"
      }
    },
    {
      "cell_type": "code",
      "source": [
        "moon.compute(observer.date)\n",
        "print(moon.moon_phase)"
      ],
      "metadata": {
        "id": "FowaZ8SXHqZq",
        "colab": {
          "base_uri": "https://localhost:8080/"
        },
        "outputId": "52157aef-1966-412a-bf8a-a49145c1b84e"
      },
      "execution_count": null,
      "outputs": [
        {
          "output_type": "stream",
          "name": "stdout",
          "text": [
            "0.09384122978749931\n"
          ]
        }
      ]
    },
    {
      "cell_type": "markdown",
      "source": [
        "> Экваториальные координаты Луны в момент середины транзита:\n"
      ],
      "metadata": {
        "id": "SiHlQwDQIRRq"
      }
    },
    {
      "cell_type": "code",
      "source": [
        "print('%s %s' % (moon.a_ra, moon.a_dec))"
      ],
      "metadata": {
        "id": "WTqYjlIHednM",
        "colab": {
          "base_uri": "https://localhost:8080/"
        },
        "outputId": "ef98ec63-f7f6-46cc-94a9-aecfc6e4558b"
      },
      "execution_count": null,
      "outputs": [
        {
          "output_type": "stream",
          "name": "stdout",
          "text": [
            "1:42:07.45 11:48:39.0\n"
          ]
        }
      ]
    },
    {
      "cell_type": "markdown",
      "source": [
        "> Используя **SkyCoord.separation**, можно найти угловое расстояние между двумя точками (звездой и Луной) на небесной сфере:\n",
        "\n"
      ],
      "metadata": {
        "id": "zDAg7tuVUrTJ"
      }
    },
    {
      "cell_type": "code",
      "source": [
        "moon_ra_dec = SkyCoord(\"1h42m07.45s\", \"11d48m39.0s\", frame = 'icrs')\n",
        "sep = star_ra_dec.separation(moon_ra_dec)\n",
        "print(sep)"
      ],
      "metadata": {
        "id": "iuotgukgLMR2",
        "colab": {
          "base_uri": "https://localhost:8080/"
        },
        "outputId": "cc23baf0-7e37-443e-fddf-b1c331f78efd"
      },
      "execution_count": null,
      "outputs": [
        {
          "output_type": "stream",
          "name": "stdout",
          "text": [
            "52d09m57.01693238s\n"
          ]
        }
      ]
    },
    {
      "cell_type": "markdown",
      "source": [
        "Таким образом, Луна не помешает наблюдениям, так как ее освещенность составляет всего 9% и она находится на достаточно большом угловом расстоянии."
      ],
      "metadata": {
        "id": "YbrbLb_59Z3E"
      }
    },
    {
      "cell_type": "markdown",
      "source": [
        "> Звезда в момент середины транзита будет находиться на высоте:\n",
        "\n"
      ],
      "metadata": {
        "id": "btNNU55LTcxQ"
      }
    },
    {
      "cell_type": "code",
      "source": [
        "from astropy import units as u\n",
        "from astropy.coordinates import EarthLocation, AltAz\n",
        "from astropy.time import Time\n",
        "\n",
        "location = EarthLocation(lat = lat.value, lon = lon.value, height = 290 * u.m)\n",
        "obs_time = Time(\"2024-3-12 21:39\")\n",
        "\n",
        "alt_az_frame = AltAz(location = location, obstime = obs_time)\n",
        "star_alt_az = star_ra_dec.transform_to(alt_az_frame)\n",
        "\n",
        "print(star_alt_az.alt)"
      ],
      "metadata": {
        "id": "OlArqCFlxZaE",
        "colab": {
          "base_uri": "https://localhost:8080/"
        },
        "outputId": "38ebd3ba-ed00-4da6-a4e0-6911ae704c63"
      },
      "execution_count": null,
      "outputs": [
        {
          "output_type": "stream",
          "name": "stdout",
          "text": [
            "31d34m21.8397726s\n"
          ]
        }
      ]
    },
    {
      "cell_type": "markdown",
      "source": [
        "В темное время суток звезда значительно выше горизонта, что позволит попытаться наблюдать транзит в Коуровской обсерватории.\n",
        "\n"
      ],
      "metadata": {
        "id": "LLERswv16jW3"
      }
    }
  ]
}